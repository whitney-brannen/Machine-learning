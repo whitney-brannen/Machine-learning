{
 "cells": [
  {
   "cell_type": "markdown",
   "id": "796ed9a8",
   "metadata": {},
   "source": [
    "## <font color = red>Whitney Brannen- Homework 2\n"
   ]
  },
  {
   "cell_type": "markdown",
   "id": "59d336e2",
   "metadata": {},
   "source": [
    "# <font color = blue> Q2 (40 points)\n",
    "### Write your own class in Python to perform PCA analysis. Require that your input data follow the format where rows are samples and columns are variables. Your function should do the following:\n",
    "\n",
    "- Do mean-centering.\n",
    "\n",
    "- Compute the covariance matrix using numpy.cov().\n",
    "\n",
    "- Perform eigen-decomposition using numpy.linalg.eig().\n",
    "\n",
    "- Project the data onto the principal component axes.\n",
    "\n",
    "- Return the variance and percent variance that each PC explains, all of the scores, and loadings.\n",
    "\n",
    "\n"
   ]
  },
  {
   "cell_type": "code",
   "execution_count": 3,
   "id": "8b0cdc05",
   "metadata": {},
   "outputs": [],
   "source": [
    "import numpy as np\n",
    "import pandas as pd\n",
    "import matplotlib.pyplot as plt"
   ]
  },
  {
   "cell_type": "code",
   "execution_count": 4,
   "id": "a3db38d4",
   "metadata": {},
   "outputs": [],
   "source": [
    "class myPCA:\n",
    "    \n",
    "    def __init__(self, data):\n",
    "        # make class take pandas or numpy array\n",
    "        if isinstance(data, pd.DataFrame):\n",
    "            self.data = data.to_numpy()\n",
    "        elif isinstance(data, np.ndarray):\n",
    "            self.data = data\n",
    "        else:\n",
    "            pass\n",
    "        self.n_components = self.data.shape[1]   \n",
    "        self.mean_val = None\n",
    "        self.mc = None # X matrix, mean centered data\n",
    "        self.cov = None\n",
    "        self.eigenvalues = None # for scree plot\n",
    "        self.eigenvectors = None # p matrix\n",
    "        self.scores = None # y matrix\n",
    "        self.var = None\n",
    "    \n",
    "    def __repr__(self):\n",
    "        return np.array_str(self.data)\n",
    "    \n",
    "    def mean(self):\n",
    "        self.mean_val = np.mean(self.data,axis=0, keepdims=True)\n",
    "        return self.mean_val\n",
    "    \n",
    "    def mean_centered(self):\n",
    "        if self.mean_val is None:\n",
    "            self.mean() \n",
    "            \n",
    "        self.mc = np.real(self.data - self.mean_val)\n",
    "\n",
    "        return self.mc\n",
    "    \n",
    "    # p matrix\n",
    "    def covariance_matrix(self):\n",
    "        if self.mc is None:\n",
    "            self.mean_centered()\n",
    "            \n",
    "        self.cov = np.cov(self.mc, rowvar=False) # rowvar False means rows are samples and columns are variables\n",
    "        return self.cov\n",
    "    \n",
    "    def eigendecomposition(self):\n",
    "        if self.cov is None:\n",
    "            self.covariance_matrix()\n",
    "        \n",
    "        self.eigenvalues,self.eigenvectors = np.linalg.eig(self.cov)\n",
    "\n",
    "        sorted_indices = np.argsort(self.eigenvalues)[::-1]\n",
    "        self.eigenvalues = self.eigenvalues[sorted_indices].tolist()\n",
    "        self.eigenvectors = self.eigenvectors[:, sorted_indices]\n",
    "        \n",
    "    def variance_explained(self):\n",
    "        if self.eigenvalues is None:\n",
    "            self.eigendecomposition()\n",
    "            \n",
    "        var_total = sum(self.eigenvalues)\n",
    "        self.var = []\n",
    "        for x in self.eigenvalues:\n",
    "            var = x/var_total\n",
    "            self.var.append(var)\n",
    "        self.var = np.real(self.var)\n",
    "        return self.var \n",
    "    \n",
    "    def project_data(self):\n",
    "         # y matrix/ scores\n",
    "        if self.eigenvectors is None:\n",
    "            self.eigendecomposition()\n",
    "        \n",
    "        self.scores = np.real(np.dot(self.mc, self.eigenvectors))\n",
    "        return self.scores\n",
    "    \n",
    "    def loading_plot(self):  \n",
    "        x_values = np.real(self.eigenvectors[:,0])\n",
    "        y_values = np.real(self.eigenvectors[:,1])\n",
    "        plt.scatter(x_values,y_values,c='blue')\n",
    "        plt.title(\"Loading Plot\")\n",
    "        plt.xlabel(f\"PC1: {round(self.var[0]*100,2)}%\")\n",
    "        plt.ylabel(f\"PC2: {round(self.var[1]*100,2)}%\")\n",
    "        return plt\n",
    "    \n",
    "    def scree_plot(self):\n",
    "        plt.plot(np.real(self.eigenvalues), marker=\"o\", linewidth=0,markerfacecolor='blue')\n",
    "        plt.title('Scree Plot') \n",
    "        plt.xlabel('Principal Component')\n",
    "        plt.ylabel('Eigenvalue')\n",
    "        return plt\n",
    "    \n",
    "    def scores_plot(self):\n",
    "        pca_df = self.transform()\n",
    "        x1 = pca_df[:,0]\n",
    "        x2 = pca_df[:,1]\n",
    "        l,d = np.shape(pca_df)\n",
    "        ll = int(l//2) # dimensions\n",
    "        fig = plt.figure()\n",
    "        ax = fig.add_subplot(1,1,1)\n",
    "        ax.scatter(x1[:ll], x2[:ll], color = \"blue\")\n",
    "        ax.scatter(x1[ll:], x2[ll:], color = \"red\")\n",
    "        ax.set_title(\"Scores Plot\")\n",
    "        ax.set_xlabel(f\"PC1: {round(self.var[0]*100,2)}%\")\n",
    "        ax.set_ylabel(f\"PC2: {round(self.var[1]*100,2)}%\")\n",
    "        return \n",
    "    \n",
    "    def fit(self):\n",
    "        # return learned p matrix/ loadings\n",
    "        self.mean_centered()\n",
    "        self.covariance_matrix()\n",
    "        self.eigendecomposition()\n",
    "        self.variance_explained()\n",
    "        return f\"PCA fit: n_components={self.n_components}\"\n",
    "    \n",
    "    def transform(self):\n",
    "        # return scores (y=xp)\n",
    "        self.project_data()\n",
    "        return self.scores\n",
    "    \n",
    "    def fit_transform(self):\n",
    "        self.fit()\n",
    "        return self.transform()\n",
    "    "
   ]
  },
  {
   "cell_type": "markdown",
   "id": "0d056d27",
   "metadata": {},
   "source": [
    "# <font color = blue>Q3 (20 points)\n",
    "\n",
    "### Apply your own PCA function to the dataset “Homework 2 dataset prob3.csv”. In this dataset, columns correspond to variables.\n",
    "\n",
    "- Plot the scores plot.\n",
    "\n",
    "- Do you see a clear separation of the raw data?\n",
    "\n",
    "- Can you still separate them after you project your raw data onto your first principal component?\n",
    "\n",
    "- What message can you get from this observation?\n",
    "\n",
    "- What is the variance of the projections on PC1 and PC2. What is the relationship between these variances and the eigenvalues of your covariance matrix?"
   ]
  },
  {
   "cell_type": "code",
   "execution_count": 5,
   "id": "d936dc1d",
   "metadata": {
    "scrolled": true
   },
   "outputs": [
    {
     "data": {
      "text/plain": [
       "array([[ 22.98125567,  -1.37554593],\n",
       "       [ 22.49894927,  -2.28970193],\n",
       "       [ 20.005713  ,  -1.36361068],\n",
       "       [ 19.25038654,  -2.02791987],\n",
       "       [ 17.43671516,  -1.72371377],\n",
       "       [ 15.7347048 ,  -1.52169118],\n",
       "       [ 13.81334629,  -1.11893815],\n",
       "       [ 12.92246342,  -1.65919662],\n",
       "       [ 11.67612091,  -1.87416596],\n",
       "       [  9.20147893,  -0.96509075],\n",
       "       [  8.66382649,  -1.82859835],\n",
       "       [  6.12162538,  -0.85769827],\n",
       "       [  5.65215179,  -1.78359786],\n",
       "       [  6.22197684,  -3.66058307],\n",
       "       [  1.47693189,  -0.67381093],\n",
       "       [  1.65972922,  -2.19661835],\n",
       "       [  1.39460442,  -3.30952212],\n",
       "       [ -0.97476546,  -2.4967838 ],\n",
       "       [ -3.36938661,  -1.66093746],\n",
       "       [ -4.08672549,  -2.36000994],\n",
       "       [ -7.05572945,  -0.99853296],\n",
       "       [ -6.55487496,  -2.81240164],\n",
       "       [ -7.89657768,  -2.9401047 ],\n",
       "       [ -9.95393323,  -2.41289772],\n",
       "       [-12.20501147,  -1.70841075],\n",
       "       [-13.03194198,  -2.30719345],\n",
       "       [-12.68705447,  -3.97833325],\n",
       "       [-14.87113662,  -3.33515589],\n",
       "       [-17.11119877,  -2.64074999],\n",
       "       [-18.37071021,  -2.84366813],\n",
       "       [ 18.18280056,   3.0156285 ],\n",
       "       [ 18.7298962 ,   1.15944348],\n",
       "       [ 16.45861679,   1.88241701],\n",
       "       [ 13.81928105,   2.94220718],\n",
       "       [ 12.5217532 ,   2.77407871],\n",
       "       [ 11.3747821 ,   2.46817235],\n",
       "       [  9.57563603,   2.75908602],\n",
       "       [  9.38462107,   1.57836266],\n",
       "       [  6.15225567,   3.18084763],\n",
       "       [  4.64075518,   3.20853035],\n",
       "       [  5.06323655,   1.46638267],\n",
       "       [  1.54166071,   3.33353063],\n",
       "       [  0.5628718 ,   2.87371697],\n",
       "       [ -1.06301998,   3.00608173],\n",
       "       [ -2.23165827,   2.72000351],\n",
       "       [ -2.62290893,   1.72252036],\n",
       "       [ -3.88208493,   1.51929524],\n",
       "       [ -5.9436983 ,   2.05039864],\n",
       "       [ -7.3927602 ,   2.02094239],\n",
       "       [ -9.46927314,   2.56568073],\n",
       "       [ -9.45389102,   1.19607875],\n",
       "       [-12.58187799,   2.70304467],\n",
       "       [-13.80212038,   2.46419053],\n",
       "       [-13.0123747 ,   0.385951  ],\n",
       "       [-15.74891687,   1.53469696],\n",
       "       [-16.73609066,   1.08255649],\n",
       "       [-18.31170602,   1.16891217],\n",
       "       [-19.51960115,   0.91875877],\n",
       "       [-21.34200333,   1.23095462],\n",
       "       [-23.43711465,   1.79271276]])"
      ]
     },
     "execution_count": 5,
     "metadata": {},
     "output_type": "execute_result"
    }
   ],
   "source": [
    "q3 = pd.read_csv(\"Homework_2_dataset_prob3.csv\")\n",
    "data3 = myPCA(q3)\n",
    "data3.fit_transform() # scores matrix"
   ]
  },
  {
   "cell_type": "code",
   "execution_count": 6,
   "id": "c33eced6",
   "metadata": {
    "scrolled": false
   },
   "outputs": [
    {
     "data": {
      "image/png": "[encoded data removed]",
      "text/plain": [
       "<Figure size 640x480 with 1 Axes>"
      ]
     },
     "metadata": {},
     "output_type": "display_data"
    }
   ],
   "source": [
    "# scores plot\n",
    "data3.scores_plot()"
   ]
  },
  {
   "cell_type": "code",
   "execution_count": 7,
   "id": "217c96a9",
   "metadata": {},
   "outputs": [
    {
     "data": {
      "text/plain": [
       "<matplotlib.collections.PathCollection at 0x1287523a0>"
      ]
     },
     "execution_count": 7,
     "metadata": {},
     "output_type": "execute_result"
    },
    {
     "data": {
      "image/png": "[encoded data removed]",
      "text/plain": [
       "<Figure size 640x480 with 1 Axes>"
      ]
     },
     "metadata": {},
     "output_type": "display_data"
    }
   ],
   "source": [
    "# Raw data\n",
    "\n",
    "q33 = q3.to_numpy()\n",
    "x1 = q33[:,0]\n",
    "x2 = q33[:,1]\n",
    "l,d = np.shape(q33)\n",
    "ll = int(l//2)\n",
    "fig = plt.figure()\n",
    "ax = fig.add_subplot(1,1,1)\n",
    "ax.scatter(x1[:ll], x2[:ll], color = \"blue\")\n",
    "\n",
    "ax.scatter(x1[ll:], x2[ll:], color = \"red\")\n"
   ]
  },
  {
   "cell_type": "markdown",
   "id": "236e21a2",
   "metadata": {},
   "source": [
    "## <font color = red> Yes, there is clear separation of the raw data, as well as separation when projected onto the first principal component seen in the scores plot.  From these observations, we can get a message that there is a linear correlation between the two data sets."
   ]
  },
  {
   "cell_type": "code",
   "execution_count": 8,
   "id": "bcdf2eb2",
   "metadata": {},
   "outputs": [
    {
     "data": {
      "text/plain": [
       "array([0.96915564, 0.03084436])"
      ]
     },
     "execution_count": 8,
     "metadata": {},
     "output_type": "execute_result"
    }
   ],
   "source": [
    "data3.variance_explained()"
   ]
  },
  {
   "cell_type": "code",
   "execution_count": 9,
   "id": "a12b9c6a",
   "metadata": {
    "scrolled": true
   },
   "outputs": [
    {
     "data": {
      "text/plain": [
       "array([[76.18644068, 77.65206707],\n",
       "       [77.65206707, 89.97956704]])"
      ]
     },
     "execution_count": 9,
     "metadata": {},
     "output_type": "execute_result"
    }
   ],
   "source": [
    "data3.covariance_matrix()"
   ]
  },
  {
   "cell_type": "markdown",
   "id": "17ff7f74",
   "metadata": {},
   "source": [
    "## <font color = red> The variance explained by the projects on PC1 and PC2 can be seen on the scores plot, as well as by .variance_explained(), being 96.9% explained by PC1 and 3.1% explained by PC2.  The relationship between these and the covariance matrix is that the variance explained values are the eigenvalues for the covariance matrix when it is diagonalized"
   ]
  },
  {
   "cell_type": "markdown",
   "id": "0b265762",
   "metadata": {},
   "source": [
    "# <font color = blue>Q4 (20 points)\n",
    "### Apply your own PCA function to the dataset “Homework 2 dataset prob4.csv”. In this dataset, rows correspond to different variables and columns correspond to different samples. You will need to transpose it before PCA analysis because your own PCA function requires columns to be variables. Plot the scree plot for PC1 and PC2 and indicate the percentage of variance that PC1 and PC2 explains respectively. Also plot the scores plot and loadings plot."
   ]
  },
  {
   "cell_type": "code",
   "execution_count": 10,
   "id": "5eedaeb9",
   "metadata": {},
   "outputs": [],
   "source": [
    "q4 = pd.read_csv(\"Homework_2_dataset_prob4.csv\",index_col=0)# index col 0 for formatting when transposed\n",
    "q4transposed = q4.T # transpose for columns as variables\n",
    "data4 = myPCA(q4transposed)"
   ]
  },
  {
   "cell_type": "code",
   "execution_count": 11,
   "id": "de34d936",
   "metadata": {
    "scrolled": true
   },
   "outputs": [
    {
     "data": {
      "text/plain": [
       "array([[ 1.01542992e+07, -2.31838943e+06, -2.73400695e+06, ...,\n",
       "        -1.01863407e-10, -1.01863407e-10, -1.21690391e-09],\n",
       "       [ 2.97144812e+07, -5.94512352e+05,  4.36059705e+06, ...,\n",
       "        -2.27009878e-09, -2.27009878e-09,  9.08039510e-09],\n",
       "       [-1.14458427e+07, -6.33668418e+06, -1.03673037e+06, ...,\n",
       "         6.98491931e-10,  6.98491931e-10,  3.37604433e-09],\n",
       "       ...,\n",
       "       [-3.26083303e+06, -9.31233583e+06,  7.77253892e+06, ...,\n",
       "         2.03726813e-10,  2.03726813e-10,  2.27009878e-09],\n",
       "       [-5.82909061e+06,  1.44498615e+07,  2.05243648e+05, ...,\n",
       "        -1.10594556e-09, -1.10594556e-09,  3.87080945e-09],\n",
       "       [-6.38222408e+06,  6.88680155e+06,  5.76689293e+06, ...,\n",
       "        -8.73114914e-10, -8.73114914e-10,  1.57160684e-09]])"
      ]
     },
     "execution_count": 11,
     "metadata": {},
     "output_type": "execute_result"
    }
   ],
   "source": [
    "data4.fit_transform()"
   ]
  },
  {
   "cell_type": "code",
   "execution_count": 12,
   "id": "c38b71b5",
   "metadata": {
    "scrolled": false
   },
   "outputs": [
    {
     "data": {
      "text/plain": [
       "<module 'matplotlib.pyplot' from '/opt/anaconda3/lib/python3.9/site-packages/matplotlib/pyplot.py'>"
      ]
     },
     "execution_count": 12,
     "metadata": {},
     "output_type": "execute_result"
    },
    {
     "data": {
      "image/png": "[encoded data removed]",
      "text/plain": [
       "<Figure size 640x480 with 1 Axes>"
      ]
     },
     "metadata": {},
     "output_type": "display_data"
    }
   ],
   "source": [
    "data4.scree_plot()"
   ]
  },
  {
   "cell_type": "code",
   "execution_count": 13,
   "id": "f9418827",
   "metadata": {
    "scrolled": false
   },
   "outputs": [
    {
     "data": {
      "text/plain": [
       "<module 'matplotlib.pyplot' from '/opt/anaconda3/lib/python3.9/site-packages/matplotlib/pyplot.py'>"
      ]
     },
     "execution_count": 13,
     "metadata": {},
     "output_type": "execute_result"
    },
    {
     "data": {
      "image/png": "[encoded data removed]",
      "text/plain": [
       "<Figure size 640x480 with 1 Axes>"
      ]
     },
     "metadata": {},
     "output_type": "display_data"
    }
   ],
   "source": [
    "data4.loading_plot()"
   ]
  },
  {
   "cell_type": "code",
   "execution_count": 14,
   "id": "28ceeb1a",
   "metadata": {},
   "outputs": [
    {
     "data": {
      "image/png": "[encoded data removed]",
      "text/plain": [
       "<Figure size 640x480 with 1 Axes>"
      ]
     },
     "metadata": {},
     "output_type": "display_data"
    }
   ],
   "source": [
    "data4.scores_plot()"
   ]
  },
  {
   "cell_type": "markdown",
   "id": "c928b7fe",
   "metadata": {},
   "source": [
    "# Checking against sklearn "
   ]
  },
  {
   "cell_type": "markdown",
   "id": "c2d04248",
   "metadata": {},
   "source": [
    "### <font color = red>When checking against sklearn, my scores matrix/ plots look the same for both datasets q3 and q4"
   ]
  },
  {
   "cell_type": "code",
   "execution_count": 15,
   "id": "dfe2235b",
   "metadata": {},
   "outputs": [],
   "source": [
    "from sklearn.decomposition import PCA"
   ]
  },
  {
   "cell_type": "code",
   "execution_count": 16,
   "id": "948770da",
   "metadata": {
    "scrolled": true
   },
   "outputs": [
    {
     "data": {
      "text/plain": [
       "array([[-22.98125567,   1.37554593],\n",
       "       [-22.49894927,   2.28970193],\n",
       "       [-20.005713  ,   1.36361068],\n",
       "       [-19.25038654,   2.02791987],\n",
       "       [-17.43671516,   1.72371377],\n",
       "       [-15.7347048 ,   1.52169118],\n",
       "       [-13.81334629,   1.11893815],\n",
       "       [-12.92246342,   1.65919662],\n",
       "       [-11.67612091,   1.87416596],\n",
       "       [ -9.20147893,   0.96509075],\n",
       "       [ -8.66382649,   1.82859835],\n",
       "       [ -6.12162538,   0.85769827],\n",
       "       [ -5.65215179,   1.78359786],\n",
       "       [ -6.22197684,   3.66058307],\n",
       "       [ -1.47693189,   0.67381093],\n",
       "       [ -1.65972922,   2.19661835],\n",
       "       [ -1.39460442,   3.30952212],\n",
       "       [  0.97476546,   2.4967838 ],\n",
       "       [  3.36938661,   1.66093746],\n",
       "       [  4.08672549,   2.36000994],\n",
       "       [  7.05572945,   0.99853296],\n",
       "       [  6.55487496,   2.81240164],\n",
       "       [  7.89657768,   2.9401047 ],\n",
       "       [  9.95393323,   2.41289772],\n",
       "       [ 12.20501147,   1.70841075],\n",
       "       [ 13.03194198,   2.30719345],\n",
       "       [ 12.68705447,   3.97833325],\n",
       "       [ 14.87113662,   3.33515589],\n",
       "       [ 17.11119877,   2.64074999],\n",
       "       [ 18.37071021,   2.84366813],\n",
       "       [-18.18280056,  -3.0156285 ],\n",
       "       [-18.7298962 ,  -1.15944348],\n",
       "       [-16.45861679,  -1.88241701],\n",
       "       [-13.81928105,  -2.94220718],\n",
       "       [-12.5217532 ,  -2.77407871],\n",
       "       [-11.3747821 ,  -2.46817235],\n",
       "       [ -9.57563603,  -2.75908602],\n",
       "       [ -9.38462107,  -1.57836266],\n",
       "       [ -6.15225567,  -3.18084763],\n",
       "       [ -4.64075518,  -3.20853035],\n",
       "       [ -5.06323655,  -1.46638267],\n",
       "       [ -1.54166071,  -3.33353063],\n",
       "       [ -0.5628718 ,  -2.87371697],\n",
       "       [  1.06301998,  -3.00608173],\n",
       "       [  2.23165827,  -2.72000351],\n",
       "       [  2.62290893,  -1.72252036],\n",
       "       [  3.88208493,  -1.51929524],\n",
       "       [  5.9436983 ,  -2.05039864],\n",
       "       [  7.3927602 ,  -2.02094239],\n",
       "       [  9.46927314,  -2.56568073],\n",
       "       [  9.45389102,  -1.19607875],\n",
       "       [ 12.58187799,  -2.70304467],\n",
       "       [ 13.80212038,  -2.46419053],\n",
       "       [ 13.0123747 ,  -0.385951  ],\n",
       "       [ 15.74891687,  -1.53469696],\n",
       "       [ 16.73609066,  -1.08255649],\n",
       "       [ 18.31170602,  -1.16891217],\n",
       "       [ 19.51960115,  -0.91875877],\n",
       "       [ 21.34200333,  -1.23095462],\n",
       "       [ 23.43711465,  -1.79271276]])"
      ]
     },
     "execution_count": 16,
     "metadata": {},
     "output_type": "execute_result"
    }
   ],
   "source": [
    "pca = PCA(n_components=2)\n",
    "result = pca.fit_transform(q3)\n",
    "result"
   ]
  },
  {
   "cell_type": "code",
   "execution_count": 17,
   "id": "2c9a55c1",
   "metadata": {
    "scrolled": true
   },
   "outputs": [
    {
     "data": {
      "text/html": [
       "<div>\n",
       "<style scoped>\n",
       "    .dataframe tbody tr th:only-of-type {\n",
       "        vertical-align: middle;\n",
       "    }\n",
       "\n",
       "    .dataframe tbody tr th {\n",
       "        vertical-align: top;\n",
       "    }\n",
       "\n",
       "    .dataframe thead th {\n",
       "        text-align: right;\n",
       "    }\n",
       "</style>\n",
       "<table border=\"1\" class=\"dataframe\">\n",
       "  <thead>\n",
       "    <tr style=\"text-align: right;\">\n",
       "      <th></th>\n",
       "      <th>PC1</th>\n",
       "      <th>PC2</th>\n",
       "    </tr>\n",
       "  </thead>\n",
       "  <tbody>\n",
       "    <tr>\n",
       "      <th>0</th>\n",
       "      <td>-22.981256</td>\n",
       "      <td>1.375546</td>\n",
       "    </tr>\n",
       "    <tr>\n",
       "      <th>1</th>\n",
       "      <td>-22.498949</td>\n",
       "      <td>2.289702</td>\n",
       "    </tr>\n",
       "    <tr>\n",
       "      <th>2</th>\n",
       "      <td>-20.005713</td>\n",
       "      <td>1.363611</td>\n",
       "    </tr>\n",
       "    <tr>\n",
       "      <th>3</th>\n",
       "      <td>-19.250387</td>\n",
       "      <td>2.027920</td>\n",
       "    </tr>\n",
       "    <tr>\n",
       "      <th>4</th>\n",
       "      <td>-17.436715</td>\n",
       "      <td>1.723714</td>\n",
       "    </tr>\n",
       "    <tr>\n",
       "      <th>5</th>\n",
       "      <td>-15.734705</td>\n",
       "      <td>1.521691</td>\n",
       "    </tr>\n",
       "    <tr>\n",
       "      <th>6</th>\n",
       "      <td>-13.813346</td>\n",
       "      <td>1.118938</td>\n",
       "    </tr>\n",
       "    <tr>\n",
       "      <th>7</th>\n",
       "      <td>-12.922463</td>\n",
       "      <td>1.659197</td>\n",
       "    </tr>\n",
       "    <tr>\n",
       "      <th>8</th>\n",
       "      <td>-11.676121</td>\n",
       "      <td>1.874166</td>\n",
       "    </tr>\n",
       "    <tr>\n",
       "      <th>9</th>\n",
       "      <td>-9.201479</td>\n",
       "      <td>0.965091</td>\n",
       "    </tr>\n",
       "    <tr>\n",
       "      <th>10</th>\n",
       "      <td>-8.663826</td>\n",
       "      <td>1.828598</td>\n",
       "    </tr>\n",
       "    <tr>\n",
       "      <th>11</th>\n",
       "      <td>-6.121625</td>\n",
       "      <td>0.857698</td>\n",
       "    </tr>\n",
       "    <tr>\n",
       "      <th>12</th>\n",
       "      <td>-5.652152</td>\n",
       "      <td>1.783598</td>\n",
       "    </tr>\n",
       "    <tr>\n",
       "      <th>13</th>\n",
       "      <td>-6.221977</td>\n",
       "      <td>3.660583</td>\n",
       "    </tr>\n",
       "    <tr>\n",
       "      <th>14</th>\n",
       "      <td>-1.476932</td>\n",
       "      <td>0.673811</td>\n",
       "    </tr>\n",
       "    <tr>\n",
       "      <th>15</th>\n",
       "      <td>-1.659729</td>\n",
       "      <td>2.196618</td>\n",
       "    </tr>\n",
       "    <tr>\n",
       "      <th>16</th>\n",
       "      <td>-1.394604</td>\n",
       "      <td>3.309522</td>\n",
       "    </tr>\n",
       "    <tr>\n",
       "      <th>17</th>\n",
       "      <td>0.974765</td>\n",
       "      <td>2.496784</td>\n",
       "    </tr>\n",
       "    <tr>\n",
       "      <th>18</th>\n",
       "      <td>3.369387</td>\n",
       "      <td>1.660937</td>\n",
       "    </tr>\n",
       "    <tr>\n",
       "      <th>19</th>\n",
       "      <td>4.086725</td>\n",
       "      <td>2.360010</td>\n",
       "    </tr>\n",
       "    <tr>\n",
       "      <th>20</th>\n",
       "      <td>7.055729</td>\n",
       "      <td>0.998533</td>\n",
       "    </tr>\n",
       "    <tr>\n",
       "      <th>21</th>\n",
       "      <td>6.554875</td>\n",
       "      <td>2.812402</td>\n",
       "    </tr>\n",
       "    <tr>\n",
       "      <th>22</th>\n",
       "      <td>7.896578</td>\n",
       "      <td>2.940105</td>\n",
       "    </tr>\n",
       "    <tr>\n",
       "      <th>23</th>\n",
       "      <td>9.953933</td>\n",
       "      <td>2.412898</td>\n",
       "    </tr>\n",
       "    <tr>\n",
       "      <th>24</th>\n",
       "      <td>12.205011</td>\n",
       "      <td>1.708411</td>\n",
       "    </tr>\n",
       "    <tr>\n",
       "      <th>25</th>\n",
       "      <td>13.031942</td>\n",
       "      <td>2.307193</td>\n",
       "    </tr>\n",
       "    <tr>\n",
       "      <th>26</th>\n",
       "      <td>12.687054</td>\n",
       "      <td>3.978333</td>\n",
       "    </tr>\n",
       "    <tr>\n",
       "      <th>27</th>\n",
       "      <td>14.871137</td>\n",
       "      <td>3.335156</td>\n",
       "    </tr>\n",
       "    <tr>\n",
       "      <th>28</th>\n",
       "      <td>17.111199</td>\n",
       "      <td>2.640750</td>\n",
       "    </tr>\n",
       "    <tr>\n",
       "      <th>29</th>\n",
       "      <td>18.370710</td>\n",
       "      <td>2.843668</td>\n",
       "    </tr>\n",
       "    <tr>\n",
       "      <th>30</th>\n",
       "      <td>-18.182801</td>\n",
       "      <td>-3.015628</td>\n",
       "    </tr>\n",
       "    <tr>\n",
       "      <th>31</th>\n",
       "      <td>-18.729896</td>\n",
       "      <td>-1.159443</td>\n",
       "    </tr>\n",
       "    <tr>\n",
       "      <th>32</th>\n",
       "      <td>-16.458617</td>\n",
       "      <td>-1.882417</td>\n",
       "    </tr>\n",
       "    <tr>\n",
       "      <th>33</th>\n",
       "      <td>-13.819281</td>\n",
       "      <td>-2.942207</td>\n",
       "    </tr>\n",
       "    <tr>\n",
       "      <th>34</th>\n",
       "      <td>-12.521753</td>\n",
       "      <td>-2.774079</td>\n",
       "    </tr>\n",
       "    <tr>\n",
       "      <th>35</th>\n",
       "      <td>-11.374782</td>\n",
       "      <td>-2.468172</td>\n",
       "    </tr>\n",
       "    <tr>\n",
       "      <th>36</th>\n",
       "      <td>-9.575636</td>\n",
       "      <td>-2.759086</td>\n",
       "    </tr>\n",
       "    <tr>\n",
       "      <th>37</th>\n",
       "      <td>-9.384621</td>\n",
       "      <td>-1.578363</td>\n",
       "    </tr>\n",
       "    <tr>\n",
       "      <th>38</th>\n",
       "      <td>-6.152256</td>\n",
       "      <td>-3.180848</td>\n",
       "    </tr>\n",
       "    <tr>\n",
       "      <th>39</th>\n",
       "      <td>-4.640755</td>\n",
       "      <td>-3.208530</td>\n",
       "    </tr>\n",
       "    <tr>\n",
       "      <th>40</th>\n",
       "      <td>-5.063237</td>\n",
       "      <td>-1.466383</td>\n",
       "    </tr>\n",
       "    <tr>\n",
       "      <th>41</th>\n",
       "      <td>-1.541661</td>\n",
       "      <td>-3.333531</td>\n",
       "    </tr>\n",
       "    <tr>\n",
       "      <th>42</th>\n",
       "      <td>-0.562872</td>\n",
       "      <td>-2.873717</td>\n",
       "    </tr>\n",
       "    <tr>\n",
       "      <th>43</th>\n",
       "      <td>1.063020</td>\n",
       "      <td>-3.006082</td>\n",
       "    </tr>\n",
       "    <tr>\n",
       "      <th>44</th>\n",
       "      <td>2.231658</td>\n",
       "      <td>-2.720004</td>\n",
       "    </tr>\n",
       "    <tr>\n",
       "      <th>45</th>\n",
       "      <td>2.622909</td>\n",
       "      <td>-1.722520</td>\n",
       "    </tr>\n",
       "    <tr>\n",
       "      <th>46</th>\n",
       "      <td>3.882085</td>\n",
       "      <td>-1.519295</td>\n",
       "    </tr>\n",
       "    <tr>\n",
       "      <th>47</th>\n",
       "      <td>5.943698</td>\n",
       "      <td>-2.050399</td>\n",
       "    </tr>\n",
       "    <tr>\n",
       "      <th>48</th>\n",
       "      <td>7.392760</td>\n",
       "      <td>-2.020942</td>\n",
       "    </tr>\n",
       "    <tr>\n",
       "      <th>49</th>\n",
       "      <td>9.469273</td>\n",
       "      <td>-2.565681</td>\n",
       "    </tr>\n",
       "    <tr>\n",
       "      <th>50</th>\n",
       "      <td>9.453891</td>\n",
       "      <td>-1.196079</td>\n",
       "    </tr>\n",
       "    <tr>\n",
       "      <th>51</th>\n",
       "      <td>12.581878</td>\n",
       "      <td>-2.703045</td>\n",
       "    </tr>\n",
       "    <tr>\n",
       "      <th>52</th>\n",
       "      <td>13.802120</td>\n",
       "      <td>-2.464191</td>\n",
       "    </tr>\n",
       "    <tr>\n",
       "      <th>53</th>\n",
       "      <td>13.012375</td>\n",
       "      <td>-0.385951</td>\n",
       "    </tr>\n",
       "    <tr>\n",
       "      <th>54</th>\n",
       "      <td>15.748917</td>\n",
       "      <td>-1.534697</td>\n",
       "    </tr>\n",
       "    <tr>\n",
       "      <th>55</th>\n",
       "      <td>16.736091</td>\n",
       "      <td>-1.082556</td>\n",
       "    </tr>\n",
       "    <tr>\n",
       "      <th>56</th>\n",
       "      <td>18.311706</td>\n",
       "      <td>-1.168912</td>\n",
       "    </tr>\n",
       "    <tr>\n",
       "      <th>57</th>\n",
       "      <td>19.519601</td>\n",
       "      <td>-0.918759</td>\n",
       "    </tr>\n",
       "    <tr>\n",
       "      <th>58</th>\n",
       "      <td>21.342003</td>\n",
       "      <td>-1.230955</td>\n",
       "    </tr>\n",
       "    <tr>\n",
       "      <th>59</th>\n",
       "      <td>23.437115</td>\n",
       "      <td>-1.792713</td>\n",
       "    </tr>\n",
       "  </tbody>\n",
       "</table>\n",
       "</div>"
      ],
      "text/plain": [
       "          PC1       PC2\n",
       "0  -22.981256  1.375546\n",
       "1  -22.498949  2.289702\n",
       "2  -20.005713  1.363611\n",
       "3  -19.250387  2.027920\n",
       "4  -17.436715  1.723714\n",
       "5  -15.734705  1.521691\n",
       "6  -13.813346  1.118938\n",
       "7  -12.922463  1.659197\n",
       "8  -11.676121  1.874166\n",
       "9   -9.201479  0.965091\n",
       "10  -8.663826  1.828598\n",
       "11  -6.121625  0.857698\n",
       "12  -5.652152  1.783598\n",
       "13  -6.221977  3.660583\n",
       "14  -1.476932  0.673811\n",
       "15  -1.659729  2.196618\n",
       "16  -1.394604  3.309522\n",
       "17   0.974765  2.496784\n",
       "18   3.369387  1.660937\n",
       "19   4.086725  2.360010\n",
       "20   7.055729  0.998533\n",
       "21   6.554875  2.812402\n",
       "22   7.896578  2.940105\n",
       "23   9.953933  2.412898\n",
       "24  12.205011  1.708411\n",
       "25  13.031942  2.307193\n",
       "26  12.687054  3.978333\n",
       "27  14.871137  3.335156\n",
       "28  17.111199  2.640750\n",
       "29  18.370710  2.843668\n",
       "30 -18.182801 -3.015628\n",
       "31 -18.729896 -1.159443\n",
       "32 -16.458617 -1.882417\n",
       "33 -13.819281 -2.942207\n",
       "34 -12.521753 -2.774079\n",
       "35 -11.374782 -2.468172\n",
       "36  -9.575636 -2.759086\n",
       "37  -9.384621 -1.578363\n",
       "38  -6.152256 -3.180848\n",
       "39  -4.640755 -3.208530\n",
       "40  -5.063237 -1.466383\n",
       "41  -1.541661 -3.333531\n",
       "42  -0.562872 -2.873717\n",
       "43   1.063020 -3.006082\n",
       "44   2.231658 -2.720004\n",
       "45   2.622909 -1.722520\n",
       "46   3.882085 -1.519295\n",
       "47   5.943698 -2.050399\n",
       "48   7.392760 -2.020942\n",
       "49   9.469273 -2.565681\n",
       "50   9.453891 -1.196079\n",
       "51  12.581878 -2.703045\n",
       "52  13.802120 -2.464191\n",
       "53  13.012375 -0.385951\n",
       "54  15.748917 -1.534697\n",
       "55  16.736091 -1.082556\n",
       "56  18.311706 -1.168912\n",
       "57  19.519601 -0.918759\n",
       "58  21.342003 -1.230955\n",
       "59  23.437115 -1.792713"
      ]
     },
     "execution_count": 17,
     "metadata": {},
     "output_type": "execute_result"
    }
   ],
   "source": [
    "pca_df = pd.DataFrame(data=result, columns=[\"PC1\", \"PC2\"])\n",
    "pca_df"
   ]
  },
  {
   "cell_type": "code",
   "execution_count": 18,
   "id": "28d5533f",
   "metadata": {},
   "outputs": [
    {
     "data": {
      "text/plain": [
       "<matplotlib.collections.PathCollection at 0x128a12b80>"
      ]
     },
     "execution_count": 18,
     "metadata": {},
     "output_type": "execute_result"
    },
    {
     "data": {
      "image/png": "[encoded data removed]",
      "text/plain": [
       "<Figure size 640x480 with 1 Axes>"
      ]
     },
     "metadata": {},
     "output_type": "display_data"
    }
   ],
   "source": [
    "# plot scores\n",
    "pca_df1 = pca_df.to_numpy()\n",
    "x1 = pca_df1[:,0]\n",
    "x2 = pca_df1[:,1]\n",
    "l,d = np.shape(pca_df1)\n",
    "ll = int(l//2)\n",
    "fig = plt.figure()\n",
    "ax = fig.add_subplot(1,1,1)\n",
    "ax.scatter(x1[:ll], x2[:ll], color = \"blue\")\n",
    "\n",
    "ax.scatter(x1[ll:], x2[ll:], color = \"red\")"
   ]
  },
  {
   "cell_type": "code",
   "execution_count": 19,
   "id": "6c3f4597",
   "metadata": {},
   "outputs": [
    {
     "data": {
      "text/plain": [
       "array([[ 10154299.19495273,  -2318389.43153255],\n",
       "       [ 29714481.21755498,   -594512.35209682],\n",
       "       [-11445842.69198015,  -6336684.18130054],\n",
       "       [ 16399866.83555755,  -1347229.88848427],\n",
       "       [ -5173875.45783377,   3665144.81849459],\n",
       "       [-10529013.60202042,    209660.82974202],\n",
       "       [-14846207.12263094,  -8666399.50395208],\n",
       "       [ -8484464.69394063,  -7005646.33185513],\n",
       "       [  5492156.09800403,   -426430.92469838],\n",
       "       [  8539894.87259484,   3251055.79887865],\n",
       "       [  3236108.44623403,   5662106.27088457],\n",
       "       [ 12753524.47077584,  -2699832.86369685],\n",
       "       [  4943040.14891184,  -5098214.72893413],\n",
       "       [ -6033510.83392174,  11213976.16615436],\n",
       "       [ -8092366.66193137,  -7271727.42743041],\n",
       "       [-12258360.92532622,   4488235.75377254],\n",
       "       [  1102418.42933451,   1250560.79937652],\n",
       "       [ -3260833.03255208,  -9312335.82566504],\n",
       "       [ -5829090.6080157 ,  14449861.47088103],\n",
       "       [ -6382224.08376735,   6886801.55146192]])"
      ]
     },
     "execution_count": 19,
     "metadata": {},
     "output_type": "execute_result"
    }
   ],
   "source": [
    "result = pca.fit_transform(q4transposed)\n",
    "result"
   ]
  },
  {
   "cell_type": "code",
   "execution_count": 20,
   "id": "2ea9779d",
   "metadata": {},
   "outputs": [
    {
     "data": {
      "text/plain": [
       "<matplotlib.collections.PathCollection at 0x12aa8fd30>"
      ]
     },
     "execution_count": 20,
     "metadata": {},
     "output_type": "execute_result"
    },
    {
     "data": {
      "image/png": "[encoded data removed]",
      "text/plain": [
       "<Figure size 640x480 with 1 Axes>"
      ]
     },
     "metadata": {},
     "output_type": "display_data"
    }
   ],
   "source": [
    "pca_df = pd.DataFrame(data=result, columns=[\"PC1\", \"PC2\"])\n",
    "\n",
    "# plot scores\n",
    "pca_df1 = pca_df.to_numpy()\n",
    "x1 = pca_df1[:,0]\n",
    "x2 = pca_df1[:,1]\n",
    "l,d = np.shape(pca_df1)\n",
    "ll = int(l//2)\n",
    "fig = plt.figure()\n",
    "ax = fig.add_subplot(1,1,1)\n",
    "ax.scatter(x1[:ll], x2[:ll], color = \"blue\")\n",
    "\n",
    "ax.scatter(x1[ll:], x2[ll:], color = \"red\")"
   ]
  },
  {
   "cell_type": "code",
   "execution_count": null,
   "id": "0d5c5158",
   "metadata": {},
   "outputs": [],
   "source": []
  },
  {
   "cell_type": "code",
   "execution_count": null,
   "id": "089ccd0c",
   "metadata": {},
   "outputs": [],
   "source": []
  }
 ],
 "metadata": {
  "kernelspec": {
   "display_name": "Python 3 (ipykernel)",
   "language": "python",
   "name": "python3"
  },
  "language_info": {
   "codemirror_mode": {
    "name": "ipython",
    "version": 3
   },
   "file_extension": ".py",
   "mimetype": "text/x-python",
   "name": "python",
   "nbconvert_exporter": "python",
   "pygments_lexer": "ipython3",
   "version": "3.9.16"
  }
 },
 "nbformat": 4,
 "nbformat_minor": 5
}
